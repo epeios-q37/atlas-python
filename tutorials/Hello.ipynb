{
 "cells": [
  {
   "cell_type": "markdown",
   "id": "collect-digest",
   "metadata": {},
   "source": [
    "If the [*atlastk*](http://atlastk.org) module is not installed, it will be installed from [*Pypi*](https://q37.info/s/9srmskcm).\n",
    "\n",
    "Don't worry, it's very lightweight module (~20 Ko), and it has <u>no</u> dependencies…"
   ]
  },
  {
   "cell_type": "code",
   "execution_count": 1,
   "id": "economic-spokesman",
   "metadata": {},
   "outputs": [],
   "source": [
    "try:\n",
    "  import atlastk\n",
    "except:\n",
    "  !pip install atlastk\n",
    "  import atlastk"
   ]
  },
  {
   "cell_type": "markdown",
   "id": "affected-tokyo",
   "metadata": {},
   "source": [
    "Let now define the body of the base HTML page."
   ]
  },
  {
   "cell_type": "code",
   "execution_count": 2,
   "id": "loving-warehouse",
   "metadata": {},
   "outputs": [],
   "source": [
    "BODY = \"\"\"\n",
    " <fieldset>\n",
    "  <input id=\"Input\" maxlength=\"20\" placeholder=\"Enter a name here\" type=\"text\"\n",
    "         data-xdh-onevent=\"Submit\" value=\"world\"/>\n",
    "   <button data-xdh-onevent=\"Submit\">Submit</button>\n",
    "   <hr/>\n",
    "   <fieldset>\n",
    "       <output id=\"Output\"/>\n",
    "   </fieldset>\n",
    " </fieldset>\n",
    "\"\"\""
   ]
  },
  {
   "cell_type": "markdown",
   "id": "nutritional-mainstream",
   "metadata": {},
   "source": [
    "And the function which will be called on each new session."
   ]
  },
  {
   "cell_type": "code",
   "execution_count": 3,
   "id": "assisted-planner",
   "metadata": {},
   "outputs": [],
   "source": [
    "def ac_connect(dom):\n",
    "    dom.inner(\"\", BODY) # The empty string (`\"\"`) is refers to the root element of the HTML page.\n",
    "    dom.focus(\"Input\")"
   ]
  },
  {
   "cell_type": "markdown",
   "id": "random-september",
   "metadata": {},
   "source": [
    "Let's now associate the connect action to this function."
   ]
  },
  {
   "cell_type": "code",
   "execution_count": 4,
   "id": "historical-tender",
   "metadata": {},
   "outputs": [],
   "source": [
    "callbacks = { \n",
    "    \"\": ac_connect # The empty string (\"\") refers to the action called on each new session.\n",
    "}"
   ]
  },
  {
   "cell_type": "markdown",
   "id": "magnetic-discharge",
   "metadata": {},
   "source": [
    "Let's display the apps main page.\n",
    "Click on the URL wich will be displayed below to open the app on it's own page ot tab."
   ]
  },
  {
   "cell_type": "markdown",
   "id": "regulated-repeat",
   "metadata": {},
   "source": [
    "Clicking on the *Submit* button or typing on *Enter* in the text field will display an error message, as there is no function assigned to the associated *Submit* action."
   ]
  },
  {
   "cell_type": "code",
   "execution_count": 5,
   "id": "supposed-assignment",
   "metadata": {},
   "outputs": [
    {
     "name": "stdout",
     "output_type": "stream",
     "text": [
      "Connection to 'faas1.q37.info:53700'...\n",
      "Connected to 'faas1.q37.info:53700'.\n",
      "\n",
      "****************************************************************************\n",
      "     Your application is connected to the free public server. Welcome!\n",
      "     THIS SERVICE IS PROVIDED \"AS IS\", WITHOUT WARRANTY OF ANY KIND,\n",
      "     EXPRESS OR IMPLIED. THE USE OF THIS SERVICE IS AT YOUR OWN RISK.\n",
      "****************************************************************************\n",
      "                    \n",
      "http://faas1.q37.info/xdh.php?_token=9bebf2de-1ca4-40ed-ac63-23d8aee70bbd\n",
      "^^^^^^^^^^^^^^^^^^^^^^^^^^^^^^^^^^^^^^^^^^^^^^^^^^^^^^^^^^^^^^^^^^^^^^^^^\n",
      "Open above URL in a web browser (click, right click or copy/paste). Enjoy!\n",
      "\n"
     ]
    },
    {
     "data": {
      "text/html": [
       "\n",
       "        <iframe\n",
       "            width=\"100%\"\n",
       "            height=\"150px\"\n",
       "            src=\"https://faas1.q37.info/xdh.php?_token=9bebf2de-1ca4-40ed-ac63-23d8aee70bbd\"\n",
       "            frameborder=\"0\"\n",
       "            allowfullscreen\n",
       "        ></iframe>\n",
       "        "
      ],
      "text/plain": [
       "<IPython.lib.display.IFrame at 0x7f6509279748>"
      ]
     },
     "execution_count": 5,
     "metadata": {},
     "output_type": "execute_result"
    }
   ],
   "source": [
    "atlastk.launch(callbacks)"
   ]
  },
  {
   "cell_type": "markdown",
   "id": "native-lending",
   "metadata": {},
   "source": [
    "Let's now  create the action associated to the *Submit* button."
   ]
  },
  {
   "cell_type": "code",
   "execution_count": 6,
   "id": "national-offense",
   "metadata": {},
   "outputs": [],
   "source": [
    "def ac_submit(dom):\n",
    "    dom.set_value(\"Output\", f\"Hello, {dom.get_value('Input')}!\")\n",
    "    dom.set_value(\"Input\", \"\")\n",
    "    dom.focus(\"Input\")"
   ]
  },
  {
   "cell_type": "markdown",
   "id": "steady-mountain",
   "metadata": {},
   "source": [
    "Let's associate this action to the *Submit* action define as the `data-xdh-event` attribute on both `input` and `button` element of the HTML page."
   ]
  },
  {
   "cell_type": "code",
   "execution_count": 7,
   "id": "crucial-frame",
   "metadata": {},
   "outputs": [],
   "source": [
    "callbacks[\"Submit\"] = ac_submit;"
   ]
  },
  {
   "cell_type": "markdown",
   "id": "stunning-grounds",
   "metadata": {},
   "source": [
    "Let's look what the `callback` variable looks like."
   ]
  },
  {
   "cell_type": "code",
   "execution_count": 8,
   "id": "biblical-nightlife",
   "metadata": {},
   "outputs": [
    {
     "data": {
      "text/plain": [
       "{'': <function __main__.ac_connect(dom)>,\n",
       " 'Submit': <function __main__.ac_submit(dom)>}"
      ]
     },
     "execution_count": 8,
     "metadata": {},
     "output_type": "execute_result"
    }
   ],
   "source": [
    "callbacks"
   ]
  },
  {
   "cell_type": "markdown",
   "id": "heavy-rugby",
   "metadata": {},
   "source": [
    "And let's relaunch the app."
   ]
  },
  {
   "cell_type": "code",
   "execution_count": 9,
   "id": "functional-phone",
   "metadata": {},
   "outputs": [
    {
     "name": "stdout",
     "output_type": "stream",
     "text": [
      "Connection to 'faas1.q37.info:53700'...\n",
      "Connected to 'faas1.q37.info:53700'.\n",
      "\n",
      "****************************************************************************\n",
      "     Your application is connected to the free public server. Welcome!\n",
      "     THIS SERVICE IS PROVIDED \"AS IS\", WITHOUT WARRANTY OF ANY KIND,\n",
      "     EXPRESS OR IMPLIED. THE USE OF THIS SERVICE IS AT YOUR OWN RISK.\n",
      "****************************************************************************\n",
      "                    \n",
      "http://faas1.q37.info/xdh.php?_token=1e1544ee-b1a2-429b-8f80-2d9a0cb7d99c\n",
      "^^^^^^^^^^^^^^^^^^^^^^^^^^^^^^^^^^^^^^^^^^^^^^^^^^^^^^^^^^^^^^^^^^^^^^^^^\n",
      "Open above URL in a web browser (click, right click or copy/paste). Enjoy!\n",
      "\n"
     ]
    },
    {
     "data": {
      "text/html": [
       "\n",
       "        <iframe\n",
       "            width=\"100%\"\n",
       "            height=\"150px\"\n",
       "            src=\"https://faas1.q37.info/xdh.php?_token=1e1544ee-b1a2-429b-8f80-2d9a0cb7d99c\"\n",
       "            frameborder=\"0\"\n",
       "            allowfullscreen\n",
       "        ></iframe>\n",
       "        "
      ],
      "text/plain": [
       "<IPython.lib.display.IFrame at 0x7f6509abbe80>"
      ]
     },
     "execution_count": 9,
     "metadata": {},
     "output_type": "execute_result"
    }
   ],
   "source": [
    "atlastk.launch(callbacks)"
   ]
  },
  {
   "cell_type": "code",
   "execution_count": null,
   "id": "alpha-fundamental",
   "metadata": {},
   "outputs": [],
   "source": []
  }
 ],
 "metadata": {
  "kernelspec": {
   "display_name": "Python 3",
   "language": "python",
   "name": "python3"
  },
  "language_info": {
   "codemirror_mode": {
    "name": "ipython",
    "version": 3
   },
   "file_extension": ".py",
   "mimetype": "text/x-python",
   "name": "python",
   "nbconvert_exporter": "python",
   "pygments_lexer": "ipython3",
   "version": "3.6.9"
  }
 },
 "nbformat": 4,
 "nbformat_minor": 5
}
