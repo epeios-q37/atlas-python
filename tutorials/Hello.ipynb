{
 "cells": [
  {
   "cell_type": "markdown",
   "id": "directed-deposit",
   "metadata": {},
   "source": [
    "**If you haven't already done so, please take a look at this [FAQ](https://q37.info/s/kqsb3gmg), especially if you run this notebook on *Google* *Colab*.**"
   ]
  },
  {
   "cell_type": "markdown",
   "id": "indie-valve",
   "metadata": {},
   "source": [
    "If the [*atlastk*](http://atlastk.org) module is not installed, it will be installed from [*Pypi*](https://q37.info/s/9srmskcm).\n",
    "\n",
    "Don't worry, it's a very lightweight package (~20 Ko), and it has no dependencies…"
   ]
  },
  {
   "cell_type": "code",
   "execution_count": 1,
   "id": "tough-employment",
   "metadata": {},
   "outputs": [],
   "source": [
    "try:\n",
    "  import atlastk\n",
    "except:\n",
    "  !pip install atlastk\n",
    "  import atlastk\n",
    "\n",
    "atlastk.setJupyterHeight(\"150px\") # Adjusting the height of the iframe in which the application will be displayed…"
   ]
  },
  {
   "cell_type": "markdown",
   "id": "latter-excerpt",
   "metadata": {},
   "source": [
    "Let now define the body of the base HTML page."
   ]
  },
  {
   "cell_type": "code",
   "execution_count": 2,
   "id": "automatic-ranch",
   "metadata": {},
   "outputs": [],
   "source": [
    "BODY = \"\"\"\n",
    "<fieldset>\n",
    "  <input id=\"Input\" maxlength=\"20\" placeholder=\"Enter a name here\" type=\"text\"\n",
    "          data-xdh-onevent=\"Submit\" value=\"world\"/>\n",
    "  <button data-xdh-onevent=\"Submit\">Submit</button>\n",
    "  <hr/>\n",
    "  <fieldset>\n",
    "    <output id=\"Output\"/>\n",
    "  </fieldset>\n",
    "</fieldset>\n",
    "\"\"\""
   ]
  },
  {
   "cell_type": "markdown",
   "id": "immune-tattoo",
   "metadata": {},
   "source": [
    "And the function which will be called on each new session."
   ]
  },
  {
   "cell_type": "code",
   "execution_count": 3,
   "id": "local-increase",
   "metadata": {},
   "outputs": [],
   "source": [
    "def ac_connect(dom):\n",
    "    dom.inner(\"\", BODY) # The empty string (`\"\"`) refers to the root element of the HTML page.\n",
    "    dom.focus(\"Input\")"
   ]
  },
  {
   "cell_type": "markdown",
   "id": "absent-conjunction",
   "metadata": {},
   "source": [
    "Let's now associate the *Connect* action to this function."
   ]
  },
  {
   "cell_type": "code",
   "execution_count": 4,
   "id": "judicial-delight",
   "metadata": {},
   "outputs": [],
   "source": [
    "callbacks = { \n",
    "    \"\": ac_connect # The empty string (\"\") refers to the action called on each new session.\n",
    "}"
   ]
  },
  {
   "cell_type": "markdown",
   "id": "rotary-forty",
   "metadata": {},
   "source": [
    "Let's display the apps main page.\n",
    "Click on the URL wich will be displayed below to open the app on it's own page ot tab."
   ]
  },
  {
   "cell_type": "markdown",
   "id": "artistic-twelve",
   "metadata": {},
   "source": [
    "Clicking on the *Submit* button or typing on *Enter* in the text field will display an error message, as there is no function assigned to the associated *Submit* action."
   ]
  },
  {
   "cell_type": "code",
   "execution_count": 5,
   "id": "proprietary-leave",
   "metadata": {},
   "outputs": [
    {
     "name": "stdout",
     "output_type": "stream",
     "text": [
      "Connection to 'faas1.q37.info:53700'...\n",
      "Connected to 'faas1.q37.info:53700'.\n",
      "\n",
      "****************************************************************************\n",
      "     Your application is connected to the free public server. Welcome!\n",
      "     THIS SERVICE IS PROVIDED \"AS IS\", WITHOUT WARRANTY OF ANY KIND,\n",
      "     EXPRESS OR IMPLIED. THE USE OF THIS SERVICE IS AT YOUR OWN RISK.\n",
      "****************************************************************************\n",
      "                    \n",
      "http://faas1.q37.info/xdh.php?_token=97e38a3e-8090-48f4-a1a3-e154f19b098c\n",
      "^^^^^^^^^^^^^^^^^^^^^^^^^^^^^^^^^^^^^^^^^^^^^^^^^^^^^^^^^^^^^^^^^^^^^^^^^\n",
      "Open above URL in a web browser (click, right click or copy/paste). Enjoy!\n",
      "\n"
     ]
    },
    {
     "data": {
      "text/html": [
       "\n",
       "        <iframe\n",
       "            width=\"100%\"\n",
       "            height=\"150px\"\n",
       "            src=\"https://faas1.q37.info/xdh.php?_token=97e38a3e-8090-48f4-a1a3-e154f19b098c\"\n",
       "            frameborder=\"0\"\n",
       "            allowfullscreen\n",
       "        ></iframe>\n",
       "        "
      ],
      "text/plain": [
       "<IPython.lib.display.IFrame at 0x7f7ec0ec6278>"
      ]
     },
     "execution_count": 5,
     "metadata": {},
     "output_type": "execute_result"
    }
   ],
   "source": [
    "atlastk.launch(callbacks)"
   ]
  },
  {
   "cell_type": "markdown",
   "id": "interesting-syndrome",
   "metadata": {},
   "source": [
    "Let's now create the action which will be associated to the *Submit* action."
   ]
  },
  {
   "cell_type": "code",
   "execution_count": 6,
   "id": "federal-credit",
   "metadata": {},
   "outputs": [],
   "source": [
    "def ac_submit(dom):\n",
    "    dom.set_value(\"Output\", f\"Hello, {dom.get_value('Input')}!\")\n",
    "    dom.set_value(\"Input\", \"\")\n",
    "    dom.focus(\"Input\")"
   ]
  },
  {
   "cell_type": "markdown",
   "id": "alternative-egyptian",
   "metadata": {},
   "source": [
    "Let's associate this function to the *Submit* action defined as the `data-xdh-event` attribute on both `input` and `button` element of the HTML page."
   ]
  },
  {
   "cell_type": "code",
   "execution_count": 7,
   "id": "fitting-rover",
   "metadata": {},
   "outputs": [],
   "source": [
    "callbacks[\"Submit\"] = ac_submit;"
   ]
  },
  {
   "cell_type": "markdown",
   "id": "informed-decline",
   "metadata": {},
   "source": [
    "Let's look what the `callback` variable looks like."
   ]
  },
  {
   "cell_type": "code",
   "execution_count": 8,
   "id": "fixed-surprise",
   "metadata": {},
   "outputs": [
    {
     "data": {
      "text/plain": [
       "{'': <function __main__.ac_connect(dom)>,\n",
       " 'Submit': <function __main__.ac_submit(dom)>}"
      ]
     },
     "execution_count": 8,
     "metadata": {},
     "output_type": "execute_result"
    }
   ],
   "source": [
    "(callbacks)"
   ]
  },
  {
   "cell_type": "markdown",
   "id": "cognitive-former",
   "metadata": {},
   "source": [
    "And let's relaunch the app.\n",
    "\n",
    "Clicking on the *Submit* button or typing on *Enter* in the text field will now display the expected greeting message."
   ]
  },
  {
   "cell_type": "code",
   "execution_count": 9,
   "id": "short-birthday",
   "metadata": {},
   "outputs": [
    {
     "name": "stdout",
     "output_type": "stream",
     "text": [
      "Connection to 'faas1.q37.info:53700'...\n",
      "Connected to 'faas1.q37.info:53700'.\n",
      "\n",
      "****************************************************************************\n",
      "     Your application is connected to the free public server. Welcome!\n",
      "     THIS SERVICE IS PROVIDED \"AS IS\", WITHOUT WARRANTY OF ANY KIND,\n",
      "     EXPRESS OR IMPLIED. THE USE OF THIS SERVICE IS AT YOUR OWN RISK.\n",
      "****************************************************************************\n",
      "                    \n",
      "http://faas1.q37.info/xdh.php?_token=3e95a9ce-8e1a-4de8-97e5-16e76cf06769\n",
      "^^^^^^^^^^^^^^^^^^^^^^^^^^^^^^^^^^^^^^^^^^^^^^^^^^^^^^^^^^^^^^^^^^^^^^^^^\n",
      "Open above URL in a web browser (click, right click or copy/paste). Enjoy!\n",
      "\n"
     ]
    },
    {
     "data": {
      "text/html": [
       "\n",
       "        <iframe\n",
       "            width=\"100%\"\n",
       "            height=\"150px\"\n",
       "            src=\"https://faas1.q37.info/xdh.php?_token=3e95a9ce-8e1a-4de8-97e5-16e76cf06769\"\n",
       "            frameborder=\"0\"\n",
       "            allowfullscreen\n",
       "        ></iframe>\n",
       "        "
      ],
      "text/plain": [
       "<IPython.lib.display.IFrame at 0x7f7ec0678518>"
      ]
     },
     "execution_count": 9,
     "metadata": {},
     "output_type": "execute_result"
    }
   ],
   "source": [
    "atlastk.launch(callbacks)"
   ]
  },
  {
   "cell_type": "code",
   "execution_count": null,
   "id": "leading-priority",
   "metadata": {},
   "outputs": [],
   "source": []
  }
 ],
 "metadata": {
  "kernelspec": {
   "display_name": "Python 3",
   "language": "python",
   "name": "python3"
  },
  "language_info": {
   "codemirror_mode": {
    "name": "ipython",
    "version": 3
   },
   "file_extension": ".py",
   "mimetype": "text/x-python",
   "name": "python",
   "nbconvert_exporter": "python",
   "pygments_lexer": "ipython3",
   "version": "3.6.9"
  }
 },
 "nbformat": 4,
 "nbformat_minor": 5
}
