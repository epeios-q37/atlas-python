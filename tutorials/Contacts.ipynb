{
 "cells": [
  {
   "cell_type": "markdown",
   "id": "valuable-state",
   "metadata": {},
   "source": [
    "# Step by step writing of an application using the *Atlas* toolkit"
   ]
  },
  {
   "cell_type": "markdown",
   "id": "silent-footage",
   "metadata": {},
   "source": [
    "**If you haven't already done so, please take a look at this [FAQ](https://q37.info/s/kqsb3gmg), especially if you run this notebook on *Google* *Colab*.**"
   ]
  },
  {
   "cell_type": "markdown",
   "id": "apparent-administration",
   "metadata": {},
   "source": [
    "## About this notebook\n",
    "\n",
    "This notebook will show the programmation, using the [*Atlas* toolkit](http://atlastk.org), of a basic contacts managing application, which will look like this:\n",
    "\n",
    "![Look of the 'Contacts' app](https://q37.info/s/39dr4tcr.png).\n",
    "\n",
    "This notebook will focus on the use of the *Atlas* toolkit; the reader is supposed to have basic knowledge of *Python* and *HTML*/*CSS*.\n",
    "\n"
   ]
  },
  {
   "cell_type": "markdown",
   "id": "inside-pride",
   "metadata": {},
   "source": [
    "## Preparation\n",
    "\n",
    "If the [*atlastk*](http://atlastk.org) module is not installed, it will be installed from [*Pypi*](https://q37.info/s/9srmskcm).\n",
    "\n",
    "Don't worry, it's a very lightweight package (~20 Ko), and it has no dependencies…"
   ]
  },
  {
   "cell_type": "code",
   "execution_count": null,
   "id": "fourth-approach",
   "metadata": {},
   "outputs": [],
   "source": [
    "try:\n",
    "  import atlastk\n",
    "except:\n",
    "  !pip install atlastk\n",
    "  import atlastk\n",
    "\n",
    "atlastk.setJupyterHeight(\"500px\") # Adjusting the height of the iframe in which the application will be displayed…"
   ]
  },
  {
   "cell_type": "markdown",
   "id": "contrary-vector",
   "metadata": {},
   "source": [
    "Let's define a little function which will be useful to display *HTML code*."
   ]
  },
  {
   "cell_type": "code",
   "execution_count": null,
   "id": "settled-terror",
   "metadata": {},
   "outputs": [],
   "source": [
    "import IPython, base64\n",
    "\n",
    "def show(html,height):\n",
    "    return IPython.display.IFrame(f\"data:text/html;base64,{base64.b64encode(html.encode()).decode('utf-8') }\".replace(\"+\",\"%2B\"), \"100%\", f\"{height}px\")"
   ]
  },
  {
   "cell_type": "markdown",
   "id": "productive-melissa",
   "metadata": {},
   "source": [
    "## The main *HTML* code\n",
    "\n",
    "The *HTML* code of the main page of the application, beginning with the part displaing a contact."
   ]
  },
  {
   "cell_type": "code",
   "execution_count": null,
   "id": "married-robin",
   "metadata": {},
   "outputs": [],
   "source": [
    "BODY_CONTACT = \"\"\"\n",
    "<fieldset id=\"Contact\">\n",
    "  <table style=\"margin: auto;\">\n",
    "    <tr>\n",
    "      <td>\n",
    "        <label for=\"Name\">Full name:</label>\n",
    "      </td>\n",
    "      <td>\n",
    "        <input id=\"Name\" size=\"50\" />\n",
    "      </td>\n",
    "    </tr>\n",
    "    <tr>\n",
    "      <td>\n",
    "        <label for=\"Address\">Address:</label>\n",
    "      </td>\n",
    "      <td>\n",
    "        <input id=\"Address\" size=\"50\" />\n",
    "      </td>\n",
    "    </tr>\n",
    "    <tr>\n",
    "      <td>\n",
    "        <label for=\"Phone\">Phone:</label>\n",
    "      </td>\n",
    "      <td>\n",
    "        <input id=\"Phone\" type=\"tel\" size=\"50\" />\n",
    "      </td>\n",
    "    </tr>\n",
    "    <tr>\n",
    "      <td>\n",
    "        <label for=\"Note\">Note:</label>\n",
    "      </td>\n",
    "      <td>\n",
    "        <textarea id=\"Note\" style=\"width: 100%;\"></textarea>\n",
    "      </td>\n",
    "    </tr>\n",
    "  </table>\n",
    "</fieldset>\n",
    "\"\"\""
   ]
  },
  {
   "cell_type": "markdown",
   "id": "cardiac-coral",
   "metadata": {},
   "source": [
    "Let's see what it looks like."
   ]
  },
  {
   "cell_type": "code",
   "execution_count": null,
   "id": "sound-compromise",
   "metadata": {},
   "outputs": [],
   "source": [
    "show(BODY_CONTACT,200)"
   ]
  },
  {
   "cell_type": "markdown",
   "id": "underlying-checkout",
   "metadata": {},
   "source": [
    "*HTML* code for the buttons.\n",
    "\n",
    "The label of the `class` attributes refers to the applications context:\n",
    "- `Display`: the application is in display mode,\n",
    "- `DisplayAndSelect`: the application is in display mode with a contact being selected,\n",
    "- `Edition`: the application is in edition mode.\n",
    "\n",
    "A button or a set of buttons (through a `div` element) with a given class has to be displayed when the application is in corresponding context, or hide otherwise. This is done by modifying the rules of the relevant class."
   ]
  },
  {
   "cell_type": "code",
   "execution_count": null,
   "id": "silver-match",
   "metadata": {},
   "outputs": [],
   "source": [
    "BODY_BUTTONS = \"\"\"\n",
    "<div style=\"display: table; margin: 10px auto auto auto;\">\n",
    "  <div>\n",
    "    <button class=\"Display\" xdh:onevent=\"New\">New</button>\n",
    "    <span class=\"DisplayAndSelect\">\n",
    "      <button xdh:onevent=\"Edit\">Edit</button>\n",
    "      <button xdh:onevent=\"Delete\">Delete</button>\n",
    "    </span>\n",
    "  </div>\n",
    "  <div class=\"Edition\">\n",
    "    <button xdh:onevent=\"Cancel\">Cancel</button>\n",
    "    <button xdh:onevent=\"Submit\">Submit</button>\n",
    "  </div>\n",
    "</div>\n",
    "\"\"\""
   ]
  },
  {
   "cell_type": "markdown",
   "id": "sealed-economy",
   "metadata": {},
   "source": [
    "Of course, not all buttons will be displayed when the application is dunning; the code which will show/hide the buttons following the context will be seen later."
   ]
  },
  {
   "cell_type": "code",
   "execution_count": null,
   "id": "central-patient",
   "metadata": {},
   "outputs": [],
   "source": [
    "show(BODY_BUTTONS,100)"
   ]
  },
  {
   "cell_type": "markdown",
   "id": "mechanical-roots",
   "metadata": {},
   "source": [
    "Now, let's put both part together."
   ]
  },
  {
   "cell_type": "code",
   "execution_count": null,
   "id": "thousand-stretch",
   "metadata": {},
   "outputs": [],
   "source": [
    "BODY_FORM = f\"\"\"\n",
    "<fieldset>\n",
    "  {BODY_CONTACT}\n",
    "  {BODY_BUTTONS}\n",
    "</fieldset>    \n",
    "\"\"\""
   ]
  },
  {
   "cell_type": "code",
   "execution_count": null,
   "id": "missing-organic",
   "metadata": {},
   "outputs": [],
   "source": [
    "show(BODY_FORM,300)"
   ]
  },
  {
   "cell_type": "markdown",
   "id": "critical-antarctica",
   "metadata": {},
   "source": [
    "The *HTML* code displaying all the contacts, with some content. Of course, the content of the *tbody* element will be generated dynamically."
   ]
  },
  {
   "cell_type": "code",
   "execution_count": null,
   "id": "representative-objective",
   "metadata": {
    "tags": []
   },
   "outputs": [],
   "source": [
    "BODY_CONTACTS = \"\"\"\n",
    "<div style=\"display: table; margin: 10px auto auto auto; border-collapse: collapse;\">\n",
    "  <table id=\"Contacts\" style=\"cursor: default; border-collapse: collapse;\">\n",
    "    <thead>\n",
    "      <th>Name</th>\n",
    "      <th>Address</th>\n",
    "      <th>Phone</th>\n",
    "      <th>Note</th>\n",
    "    </thead>\n",
    "    <tbody id=\"Content\">\n",
    "        <tr id=\"0\" style=\"cursor: pointer;\">\n",
    "            <td>Holmes, Sherlock</td>\n",
    "            <td>221B Baker Street, Londres</td>\n",
    "            <td>(use telegraph)</td><td>Great detective!</td>\n",
    "        </tr>\n",
    "        <tr id=\"1\" style=\"cursor: pointer;\">\n",
    "            <td>Holmes, Mycroft</td>\n",
    "            <td>Diogenes Club, Pall Mall, Londres</td>\n",
    "            <td>(use telegraph)</td>\n",
    "            <td>Works for the British government. Brother of Holmes, Sherlock.</td>\n",
    "        </tr>\n",
    "  </table>\n",
    "</div>\n",
    "\"\"\""
   ]
  },
  {
   "cell_type": "markdown",
   "id": "turned-timber",
   "metadata": {},
   "source": [
    "Looks a little bit messy, but this will change with the coming *CSS* rules."
   ]
  },
  {
   "cell_type": "code",
   "execution_count": null,
   "id": "turkish-machine",
   "metadata": {},
   "outputs": [],
   "source": [
    "show(BODY_CONTACTS,100)"
   ]
  },
  {
   "cell_type": "markdown",
   "id": "removable-angle",
   "metadata": {},
   "source": [
    "And the final *HTML* code."
   ]
  },
  {
   "cell_type": "code",
   "execution_count": null,
   "id": "organizational-collectible",
   "metadata": {},
   "outputs": [],
   "source": [
    "BODY = BODY_FORM + BODY_CONTACTS"
   ]
  },
  {
   "cell_type": "markdown",
   "id": "transparent-modem",
   "metadata": {},
   "source": [
    "Which will look like this:"
   ]
  },
  {
   "cell_type": "code",
   "execution_count": null,
   "id": "noble-thread",
   "metadata": {},
   "outputs": [],
   "source": [
    "show(BODY,400)"
   ]
  },
  {
   "cell_type": "markdown",
   "id": "refined-triangle",
   "metadata": {},
   "source": [
    "## The meta-data *HTML* code\n",
    "\n",
    "Now the *HTML* code which will be placed in the `head` section of the main *HTML* page, beginning with the part dedicated to the appearance of the application."
   ]
  },
  {
   "cell_type": "code",
   "execution_count": null,
   "id": "intelligent-length",
   "metadata": {
    "tags": []
   },
   "outputs": [],
   "source": [
    "HEAD_LOOK = \"\"\"\n",
    "<title>Address book</title>\n",
    "<link rel=\"icon\" type=\"image/png\"\n",
    "  href=\"data:image/png;base64,iVBORw0KGgoAAAANSUhEUgAAACAAAAAgBAMAAACBVGfHAAAAMFBMVEUEAvyEhsxERuS8urQsKuycnsRkYtzc2qwUFvRUVtysrrx0ctTs6qTMyrSUksQ0NuyciPBdAAABHklEQVR42mNgwAa8zlxjDd2A4POfOXPmzZkFCAH2M8fNzyALzDlzg2ENssCbMwkMOsgCa858YOjBKxBzRoHhD7LAHiBH5swCT9HQ6A9ggZ4zp7YCrV0DdM6pBpAAG5Blc2aBDZA68wCsZPuZU0BDH07xvHOmAGKKvgMP2NA/Zw7ADIYJXGDgLQeBBSCBFu0aoAPYQUadMQAJAE29zwAVWMCWpgB08ZnDQGsbGhpsgCqBQHNfzRkDEIPlzFmo0T5nzoMovjPHoAK8Zw5BnA5yDosDSAVYQOYMKIDZzkoDzagAsjhqzjRAfXTmzAQgi/vMQZA6pjtAvhEk0E+ATWRRm6YBZuScCUCNN5szH1D4TGdOoSrggtiNAH3vBBjwAQCglIrSZkf1MQAAAABJRU5ErkJggg==\" />\n",
    "<style>\n",
    "  #Contact label {\n",
    "    font-weight: bold;\n",
    "  }\n",
    "\n",
    "  #Contact span {\n",
    "    text-align: left;\n",
    "  }\n",
    "\n",
    "  #Contacts th,\n",
    "  #Contacts td {\n",
    "    border: 1px solid black;\n",
    "    padding: 0% 5px;\n",
    "  }\n",
    "\n",
    "  #Contacts td:nth-child(3) {\n",
    "    text-align: right;\n",
    "  }\n",
    "\n",
    "  #Contacts tr:nth-child(even)\n",
    "  {\n",
    "    background: #CCC\n",
    "  }\n",
    "\n",
    "  #Contacts tr:nth-child(odd)\n",
    "  {\n",
    "    background: #FFF\n",
    "  }\n",
    "\n",
    "  #Contact *:disabled {\n",
    "    background-color: snow;\n",
    "    color: initial;\n",
    "  }\n",
    "</style>\n",
    "\"\"\""
   ]
  },
  {
   "cell_type": "markdown",
   "id": "naked-duplicate",
   "metadata": {},
   "source": [
    "And now the part with the elements containing *CSS* rules which will be used to show/hide the buttons."
   ]
  },
  {
   "cell_type": "code",
   "execution_count": null,
   "id": "closing-louis",
   "metadata": {
    "tags": []
   },
   "outputs": [],
   "source": [
    "HEAD_BUTTONS = \"\"\"\n",
    "<style id=\"HideDisplay\">\n",
    "  .Display {\n",
    "    display: none;\n",
    "  }\n",
    "</style>\n",
    "<style id=\"HideDisplayAndSelect\">\n",
    "  .DisplayAndSelect {\n",
    "    display: none;\n",
    "  }\n",
    "</style>\n",
    "<style id=\"HideEdition\">\n",
    "  .Edition {\n",
    "    display: none;\n",
    "  }\n",
    "</style>\n",
    "\"\"\""
   ]
  },
  {
   "cell_type": "markdown",
   "id": "cross-conspiracy",
   "metadata": {},
   "source": [
    "Let's put both part together."
   ]
  },
  {
   "cell_type": "code",
   "execution_count": null,
   "id": "velvet-security",
   "metadata": {},
   "outputs": [],
   "source": [
    "HEAD = HEAD_LOOK + HEAD_BUTTONS"
   ]
  },
  {
   "cell_type": "markdown",
   "id": "boxed-measure",
   "metadata": {},
   "source": [
    "## Displaying the interface\n",
    "\n",
    "This is the function which will be called on each new connection, and which will display the application's main page."
   ]
  },
  {
   "cell_type": "code",
   "execution_count": null,
   "id": "bridal-voice",
   "metadata": {},
   "outputs": [],
   "source": [
    "def ac_connect(dom):\n",
    "  dom.inner(\"\",BODY) # The \"\" id refers to the root element."
   ]
  },
  {
   "cell_type": "markdown",
   "id": "aggressive-fashion",
   "metadata": {},
   "source": [
    "Let's assign this function to the connection action.\n",
    "\n",
    "Apart from the empty key (`\"\"`), all keys of the callbacks dictionnary will refer to the a value of a `xdh:onevent` in the *HTML* code."
   ]
  },
  {
   "cell_type": "code",
   "execution_count": null,
   "id": "centered-testimony",
   "metadata": {},
   "outputs": [],
   "source": [
    "callbacks = {\n",
    "    \"\": ac_connect # The \"\" action label is for the connection action, which will be called on each new connection.\n",
    "} "
   ]
  },
  {
   "cell_type": "markdown",
   "id": "opponent-bones",
   "metadata": {},
   "source": [
    "And let's launch the application. At this point, you cannot interact with the application."
   ]
  },
  {
   "cell_type": "code",
   "execution_count": null,
   "id": "hungry-hearing",
   "metadata": {},
   "outputs": [],
   "source": [
    "atlastk.launch(callbacks,headContent = HEAD)"
   ]
  },
  {
   "cell_type": "markdown",
   "id": "equipped-pharmacology",
   "metadata": {},
   "source": [
    "## The contacts list\n",
    "\n",
    "In order to keep the application uncomplicated, it is a dictionary, stored in the `contacts` variable, that will act as a database. Let's store some examplerecors in it."
   ]
  },
  {
   "cell_type": "code",
   "execution_count": null,
   "id": "electronic-trance",
   "metadata": {},
   "outputs": [],
   "source": [
    "EXAMPLE = [\n",
    "  {\n",
    "    \"Name\": \"Holmes, Sherlock\",\n",
    "    \"Address\": \"221B Baker Street, Londres\",\n",
    "    \"Phone\": \"(use telegraph)\",\n",
    "    \"Note\": \"Great detective!\"\n",
    "  },\n",
    "  {\n",
    "    \"Name\": \"Holmes, Mycroft\",\n",
    "    \"Address\": \"Diogenes Club, Pall Mall, Londres\",\n",
    "    \"Phone\": \"(use telegraph)\",\n",
    "    \"Note\": \"Works for the British government.\\nBrother of Holmes, Sherlock.\"\n",
    "  },\n",
    "  {\n",
    "    \"Name\": \"Tintin\",\n",
    "    \"Address\": \"Château de Moulinsart\",\n",
    "    \"Phone\": \"421\",\n",
    "    \"Note\": \"Has a dog named Snowy.\"\n",
    "  },\n",
    "  {\n",
    "    \"Name\": \"Tournesol, Tryphon (prof.)\",\n",
    "    \"Address\": \"Château de Moulinsart\",\n",
    "    \"Phone\": \"421\",\n",
    "    \"Note\": \"Creator of the Bianca rose.\"\n",
    "  }\n",
    "]\n",
    "\n",
    "contacts = EXAMPLE"
   ]
  },
  {
   "cell_type": "markdown",
   "id": "recorded-baseline",
   "metadata": {},
   "source": [
    "This function which will generate the *HTML* code displaying the list of the contacts ."
   ]
  },
  {
   "cell_type": "code",
   "execution_count": null,
   "id": "vocal-craps",
   "metadata": {},
   "outputs": [],
   "source": [
    "def display_contacts(dom):\n",
    "  html = \"\"\n",
    "\n",
    "  for contactId in range(len(contacts)):\n",
    "    contact = contacts[contactId]\n",
    "    html += f'<tr id=\"{contactId}\" xdh:onevent=\"Select\" style=\"cursor: pointer;\">'\n",
    "    for key in contact:\n",
    "      html += f'<td>{contact[key]}</td>'\n",
    "    html += '</td>'\n",
    "\n",
    "  dom.inner(\"Content\", html) # 'Content' is the id of an element of the main HTML page (look at the above definition of the 'BODY_CONTACTS' variable)."
   ]
  },
  {
   "cell_type": "markdown",
   "id": "infrared-listening",
   "metadata": {},
   "source": [
    "We redefine and reaffect the function launched on each new connections, so that it will also display the list of the contacts."
   ]
  },
  {
   "cell_type": "code",
   "execution_count": null,
   "id": "ruled-resource",
   "metadata": {},
   "outputs": [],
   "source": [
    "def ac_connect(dom):\n",
    "  dom.inner(\"\",BODY)\n",
    "  display_contacts(dom)\n",
    "    \n",
    "callbacks[\"\"] = ac_connect"
   ]
  },
  {
   "cell_type": "markdown",
   "id": "sunrise-flexibility",
   "metadata": {},
   "source": [
    "Let's look the result. You still can not interact with the application."
   ]
  },
  {
   "cell_type": "code",
   "execution_count": null,
   "id": "crazy-natural",
   "metadata": {},
   "outputs": [],
   "source": [
    "atlastk.launch(callbacks)"
   ]
  },
  {
   "cell_type": "markdown",
   "id": "known-quest",
   "metadata": {},
   "source": [
    "## The details of a contact\n",
    "\n",
    "We now need a function which will display a specific contact."
   ]
  },
  {
   "cell_type": "code",
   "execution_count": null,
   "id": "through-addiction",
   "metadata": {},
   "outputs": [],
   "source": [
    "def display_contact(contactId,dom):\n",
    "  dom.set_values(contacts[contactId]) # The key of the dictionnaries entries matches the id of the *HTML* code\n",
    "                                      # (see the above definition of the 'BODY_CONTACT' variable),\n",
    "                                      # so we can use the entries of the 'contacts' variable as is."
   ]
  },
  {
   "cell_type": "markdown",
   "id": "brief-extent",
   "metadata": {},
   "source": [
    "We use this function in the function which will be launched when an entry of the contact list is selected.\n",
    "\n",
    "As previously stated, the `Select` key is the value of a `xdh:onevent` attribute, as you can see it in the above definition of the `display_contacts` function."
   ]
  },
  {
   "cell_type": "code",
   "execution_count": null,
   "id": "fundamental-protein",
   "metadata": {},
   "outputs": [],
   "source": [
    "def ac_select(dom,id):\n",
    "  display_contact(int(id),dom)\n",
    "\n",
    "callbacks[\"Select\"] = ac_select"
   ]
  },
  {
   "cell_type": "markdown",
   "id": "arranged-patio",
   "metadata": {},
   "source": [
    "Let's see if it works: selecting a contact in the list will now display this contact in the contact form."
   ]
  },
  {
   "cell_type": "code",
   "execution_count": null,
   "id": "functional-magnitude",
   "metadata": {
    "tags": []
   },
   "outputs": [],
   "source": [
    "atlastk.launch(callbacks)"
   ]
  },
  {
   "cell_type": "markdown",
   "id": "tested-pioneer",
   "metadata": {},
   "source": [
    "## Disabling the fields and displaying the *New* button\n",
    "\n",
    "The contact fields are currently enabled, but we need them to be disabled, so let's define an array containing their ids."
   ]
  },
  {
   "cell_type": "code",
   "execution_count": null,
   "id": "focal-exhaust",
   "metadata": {
    "tags": []
   },
   "outputs": [],
   "source": [
    "FIELDS = [\n",
    "  \"Name\",\n",
    "  \"Address\",\n",
    "  \"Phone\",\n",
    "  \"Note\"\n",
    "]"
   ]
  },
  {
   "cell_type": "markdown",
   "id": "analyzed-history",
   "metadata": {},
   "source": [
    "This function will disable the fields and show the *New* button. It will be later updated to enable/disable the fields and show/hide the proper button depending on the application current state."
   ]
  },
  {
   "cell_type": "code",
   "execution_count": null,
   "id": "scheduled-europe",
   "metadata": {},
   "outputs": [],
   "source": [
    "def update_outfit(dom):\n",
    "  dom.disable_elements(FIELDS)\n",
    "  dom.disable_element(\"HideDisplay\") # Disables the element of id 'HideDisplay' defined in `HEAD_BUTTONS` (see above),\n",
    "                                     # which defines a *CSS* rule hiding element with the 'Display' class.\n",
    "                                     # Hence, the 'New' button is displayed."
   ]
  },
  {
   "cell_type": "markdown",
   "id": "departmental-warehouse",
   "metadata": {},
   "source": [
    "Let's redefine and reaffect the function assigned to the connection action, so it uses the above function."
   ]
  },
  {
   "cell_type": "code",
   "execution_count": null,
   "id": "packed-salem",
   "metadata": {},
   "outputs": [],
   "source": [
    "def ac_connect(dom):\n",
    "  dom.inner(\"\",BODY)\n",
    "  display_contacts(dom)\n",
    "  update_outfit(dom)\n",
    "\n",
    "callbacks[\"\"] = ac_connect"
   ]
  },
  {
   "cell_type": "markdown",
   "id": "published-laser",
   "metadata": {},
   "source": [
    "Same for the function assigned to the action launched by selecting an item in the list of contacts."
   ]
  },
  {
   "cell_type": "code",
   "execution_count": null,
   "id": "narrow-testimony",
   "metadata": {},
   "outputs": [],
   "source": [
    "def ac_select(dom,id):\n",
    "  display_contact(int(id),dom)\n",
    "  update_outfit(dom)\n",
    "    \n",
    "callbacks[\"Select\"] = ac_select"
   ]
  },
  {
   "cell_type": "markdown",
   "id": "suspended-cooking",
   "metadata": {},
   "source": [
    "Let's see the result. The fields are disabled, and the *New* button is displayed; we have yet to react appropriately when we click on this button."
   ]
  },
  {
   "cell_type": "code",
   "execution_count": null,
   "id": "focal-hotel",
   "metadata": {},
   "outputs": [],
   "source": [
    "atlastk.launch(callbacks)"
   ]
  },
  {
   "cell_type": "markdown",
   "id": "defined-pavilion",
   "metadata": {},
   "source": [
    "## Creating a new contact\n",
    "\n",
    "Let's enumerate the two states in which the application can be."
   ]
  },
  {
   "cell_type": "code",
   "execution_count": null,
   "id": "coated-michael",
   "metadata": {},
   "outputs": [],
   "source": [
    "import enum\n",
    "\n",
    "class State(enum.Enum):\n",
    "  DISPLAY = enum.auto()\n",
    "  EDIT = enum.auto()"
   ]
  },
  {
   "cell_type": "markdown",
   "id": "industrial-yeast",
   "metadata": {},
   "source": [
    "Each user can be in a different state, so let's define an object `Board` which will be user-specific to store this state."
   ]
  },
  {
   "cell_type": "code",
   "execution_count": null,
   "id": "treated-there",
   "metadata": {},
   "outputs": [],
   "source": [
    "class Board:\n",
    "  def __init__(self):\n",
    "    self.state = State.DISPLAY"
   ]
  },
  {
   "cell_type": "markdown",
   "id": "extensive-austin",
   "metadata": {},
   "source": [
    "This object has to be give to the function which enable/disable the fields, and hide/show the buttons. We also update this function so it handles the fields and the buttons according to the state stored in `board`, which is an instance of above `Board`."
   ]
  },
  {
   "cell_type": "code",
   "execution_count": null,
   "id": "heavy-ending",
   "metadata": {},
   "outputs": [],
   "source": [
    "def update_outfit(board,dom):\n",
    "  if board.state == State.DISPLAY:\n",
    "    dom.disable_elements(FIELDS)\n",
    "    dom.disable_element(\"HideDisplay\")\n",
    "  elif board.state == State.EDIT:\n",
    "    dom.enable_elements(FIELDS)\n",
    "    dom.enable_elements(\"HideDisplay\")"
   ]
  },
  {
   "cell_type": "markdown",
   "id": "transparent-active",
   "metadata": {},
   "source": [
    "We also have to update and, hence, to reaffect, the functions calling this function, so it can pass to it the `board` parameter."
   ]
  },
  {
   "cell_type": "code",
   "execution_count": null,
   "id": "lonely-reply",
   "metadata": {},
   "outputs": [],
   "source": [
    "def ac_connect(board,dom):\n",
    "  dom.inner(\"\",BODY)\n",
    "  display_contacts(dom)\n",
    "  board.state = State.DISPLAY\n",
    "  update_outfit(board,dom)\n",
    "\n",
    "callbacks[\"\"] = ac_connect\n",
    "\n",
    "def ac_select(board,dom,id):\n",
    "  display_contact(int(id),dom)\n",
    "  board.state = State.DISPLAY\n",
    "  update_outfit(board,dom)\n",
    "    \n",
    "callbacks[\"Select\"] = ac_select"
   ]
  },
  {
   "cell_type": "markdown",
   "id": "mysterious-strip",
   "metadata": {},
   "source": [
    "We define an empty contact, which will be used when no contact is selected."
   ]
  },
  {
   "cell_type": "code",
   "execution_count": null,
   "id": "prepared-penetration",
   "metadata": {},
   "outputs": [],
   "source": [
    "EMPTY_CONTACT = {\n",
    "  \"Name\": \"\",\n",
    "  \"Address\": \"\",\n",
    "  \"Phone\": \"\",\n",
    "  \"Note\": \"\"\n",
    "}"
   ]
  },
  {
   "cell_type": "markdown",
   "id": "outstanding-identifier",
   "metadata": {},
   "source": [
    "We update the function which displays a contact so the fields where be emptied when there is no selected contact."
   ]
  },
  {
   "cell_type": "code",
   "execution_count": null,
   "id": "alpha-collapse",
   "metadata": {},
   "outputs": [],
   "source": [
    "def display_contact(contactId,dom):\n",
    "  dom.set_values(EMPTY_CONTACT if contactId == None else contacts[contactId])"
   ]
  },
  {
   "cell_type": "markdown",
   "id": "dimensional-hearts",
   "metadata": {},
   "source": [
    "This function allows to creation a new contact, and we assign it to the proper action."
   ]
  },
  {
   "cell_type": "code",
   "execution_count": null,
   "id": "canadian-broadway",
   "metadata": {},
   "outputs": [],
   "source": [
    "def ac_new(board,dom):\n",
    "  board.state = State.EDIT\n",
    "  display_contact(None,dom)\n",
    "  update_outfit(board,dom)\n",
    "  dom.focus(\"Name\")\n",
    "\n",
    "callbacks[\"New\"] = ac_new"
   ]
  },
  {
   "cell_type": "markdown",
   "id": "removed-wealth",
   "metadata": {},
   "source": [
    "Clicking on the *New* button will now be handled properly. You can also launch other instances of this application (click on the URL, or use the QR Code), and they will react independently from each others."
   ]
  },
  {
   "cell_type": "code",
   "execution_count": null,
   "id": "empirical-impossible",
   "metadata": {},
   "outputs": [],
   "source": [
    "atlastk.launch(callbacks,Board) # Note the 'Board' parameter, which is the constructor of a user-specific object."
   ]
  },
  {
   "cell_type": "markdown",
   "id": "daily-taylor",
   "metadata": {},
   "source": [
    "## The edition buttons\n",
    "\n",
    "Let's now add the handling of the *Submit* and *Cancel* buttons."
   ]
  },
  {
   "cell_type": "code",
   "execution_count": null,
   "id": "female-plastic",
   "metadata": {},
   "outputs": [],
   "source": [
    "def update_outfit(board,dom):\n",
    "  if board.state == State.DISPLAY:\n",
    "    dom.disable_elements(FIELDS)\n",
    "    dom.disable_element(\"HideDisplay\")\n",
    "    dom.enable_element(\"HideEdition\")\n",
    "  elif board.state == State.EDIT:\n",
    "    dom.enable_elements(FIELDS)\n",
    "    dom.enable_element(\"HideDisplay\")\n",
    "    dom.disable_element(\"HideEdition\")"
   ]
  },
  {
   "cell_type": "markdown",
   "id": "featured-drove",
   "metadata": {},
   "source": [
    "Let's define and assign the function used for the *Cancel* button."
   ]
  },
  {
   "cell_type": "code",
   "execution_count": null,
   "id": "cooperative-assembly",
   "metadata": {},
   "outputs": [],
   "source": [
    "def ac_cancel(board,dom):\n",
    "  if dom.confirm(\"Are you sure?\"):\n",
    "    display_contact(None,dom)\n",
    "    board.state = State.DISPLAY\n",
    "    update_outfit(board,dom)\n",
    "    \n",
    "callbacks[\"Cancel\"] = ac_cancel"
   ]
  },
  {
   "cell_type": "markdown",
   "id": "offshore-upper",
   "metadata": {},
   "source": [
    "And also the function for the *Submit* button."
   ]
  },
  {
   "cell_type": "code",
   "execution_count": null,
   "id": "natural-auction",
   "metadata": {},
   "outputs": [],
   "source": [
    "def ac_submit(board,dom):\n",
    "  idsAndValues = dom.get_values(FIELDS)\n",
    "\n",
    "  if not idsAndValues['Name'].strip():\n",
    "    dom.alert(\"The name field can not be empty!\")\n",
    "  else:\n",
    "    board.state = State.DISPLAY\n",
    "    contacts.append(idsAndValues)\n",
    "    display_contact(None,dom)\n",
    "    display_contacts(dom)\n",
    "    update_outfit(board,dom)\n",
    "    \n",
    "callbacks[\"Submit\"] = ac_submit"
   ]
  },
  {
   "cell_type": "markdown",
   "id": "sunset-literature",
   "metadata": {},
   "source": [
    "The handling of a new contact works now."
   ]
  },
  {
   "cell_type": "code",
   "execution_count": null,
   "id": "introductory-spice",
   "metadata": {},
   "outputs": [],
   "source": [
    "atlastk.launch(callbacks,Board)"
   ]
  },
  {
   "cell_type": "markdown",
   "id": "enclosed-excellence",
   "metadata": {},
   "source": [
    "## The remaining buttons\n",
    "\n",
    "Time to address the *Edit* and *Delete* buttons.\n",
    "\n",
    "Let's update the definition of the used-specific object, so we can handle the modification of an existing contact."
   ]
  },
  {
   "cell_type": "code",
   "execution_count": null,
   "id": "former-dallas",
   "metadata": {},
   "outputs": [],
   "source": [
    "class Board:\n",
    "  def __init__(self):\n",
    "    self.state = State.DISPLAY\n",
    "    self.contactId = None"
   ]
  },
  {
   "cell_type": "markdown",
   "id": "guided-miniature",
   "metadata": {},
   "source": [
    "We need to update accordingly the function called when selecting a contact."
   ]
  },
  {
   "cell_type": "code",
   "execution_count": null,
   "id": "choice-footwear",
   "metadata": {},
   "outputs": [],
   "source": [
    "def ac_select(board,dom,id):\n",
    "  board.contactId = int(id)\n",
    "  display_contact(board.contactId,dom)  \n",
    "  board.state = State.DISPLAY\n",
    "  update_outfit(board,dom)\n",
    "    \n",
    "callbacks[\"Select\"] = ac_select"
   ]
  },
  {
   "cell_type": "markdown",
   "id": "divine-incident",
   "metadata": {},
   "source": [
    "And also the function which hides/shows the buttons."
   ]
  },
  {
   "cell_type": "code",
   "execution_count": null,
   "id": "representative-married",
   "metadata": {},
   "outputs": [],
   "source": [
    "def update_outfit(board,dom):\n",
    "  if board.state == State.DISPLAY:\n",
    "    dom.disable_elements(FIELDS)\n",
    "    dom.disable_element(\"HideDisplay\")\n",
    "    dom.enable_element(\"HideEdition\")\n",
    "    if board.contactId == None:\n",
    "      dom.enable_element(\"HideDisplayAndSelect\")\n",
    "    else:\n",
    "      dom.disable_element(\"HideDisplayAndSelect\")\n",
    "  elif board.state == State.EDIT:\n",
    "    dom.enable_elements(FIELDS)\n",
    "    dom.enable_elements((\"HideDisplay\",\"HideDisplayAndSelect\"))\n",
    "    dom.disable_element(\"HideEdition\")"
   ]
  },
  {
   "cell_type": "markdown",
   "id": "hired-relation",
   "metadata": {},
   "source": [
    "And we need to create and assign the function used for the *Edit* button."
   ]
  },
  {
   "cell_type": "code",
   "execution_count": null,
   "id": "large-shoot",
   "metadata": {},
   "outputs": [],
   "source": [
    "def ac_edit(board,dom):\n",
    "  board.state = State.EDIT\n",
    "  display_contact(board.contactId,dom)\n",
    "  update_outfit(board,dom)\n",
    "  dom.focus(\"Name\")\n",
    "    \n",
    "callbacks[\"Edit\"] = ac_edit"
   ]
  },
  {
   "cell_type": "markdown",
   "id": "continuous-royal",
   "metadata": {},
   "source": [
    "And to update and reassign the function behind the *Cancel* button."
   ]
  },
  {
   "cell_type": "code",
   "execution_count": null,
   "id": "prescribed-marketing",
   "metadata": {},
   "outputs": [],
   "source": [
    "def ac_cancel(board,dom):\n",
    "  if dom.confirm(\"Are you sure?\"):\n",
    "    display_contact(board.contactId,dom)\n",
    "    board.state = State.DISPLAY\n",
    "    update_outfit(board,dom)\n",
    "    \n",
    "callbacks[\"Cancel\"]=ac_cancel"
   ]
  },
  {
   "cell_type": "markdown",
   "id": "southwest-junior",
   "metadata": {},
   "source": [
    "And also the one behind the *Submit* button."
   ]
  },
  {
   "cell_type": "code",
   "execution_count": null,
   "id": "dominican-equity",
   "metadata": {},
   "outputs": [],
   "source": [
    "def ac_submit(board,dom):\n",
    "  idsAndValues = dom.get_values(FIELDS)\n",
    "\n",
    "  if not idsAndValues['Name'].strip():\n",
    "    dom.alert(\"The name field can not be empty!\")\n",
    "  else:\n",
    "    board.state = State.DISPLAY\n",
    "    if board.contactId == None:\n",
    "      contacts.append(idsAndValues)\n",
    "    else:\n",
    "      contacts[board.contactId] = idsAndValues\n",
    "    display_contact(board.contactId,dom)\n",
    "    display_contacts(dom)\n",
    "    update_outfit(board,dom)\n",
    "    \n",
    "callbacks[\"Submit\"]=ac_submit    "
   ]
  },
  {
   "cell_type": "markdown",
   "id": "loaded-applicant",
   "metadata": {},
   "source": [
    "Let's now create and assign the function for the *Delete* button."
   ]
  },
  {
   "cell_type": "code",
   "execution_count": null,
   "id": "centered-mobile",
   "metadata": {},
   "outputs": [],
   "source": [
    "def ac_delete(board,dom):\n",
    "  contacts.pop(board.contactId)\n",
    "  board.contactId = None;\n",
    "  display_contact(None,dom)\n",
    "  display_contacts(dom)\n",
    "  update_outfit(board,dom)\n",
    "\n",
    "callbacks[\"Delete\"] = ac_delete"
   ]
  },
  {
   "cell_type": "markdown",
   "id": "economic-density",
   "metadata": {},
   "source": [
    "And let's verify of all this buttons are now working."
   ]
  },
  {
   "cell_type": "code",
   "execution_count": null,
   "id": "sacred-korea",
   "metadata": {},
   "outputs": [],
   "source": [
    "atlastk.launch(callbacks,Board)"
   ]
  },
  {
   "cell_type": "markdown",
   "id": "numerous-yield",
   "metadata": {},
   "source": [
    "## The bonus\n",
    "\n",
    "If you open multiple instances, you will see that the modification/creation/deletion of a contact will not be reflected immediately in the other instances. Let's fix these."
   ]
  },
  {
   "cell_type": "markdown",
   "id": "competent-skill",
   "metadata": {},
   "source": [
    "Let's begin with a function which refresh the contact list, and which will be affected to an action which is not defined as value of a `xdh:onevent` attribute."
   ]
  },
  {
   "cell_type": "code",
   "execution_count": null,
   "id": "white-regulation",
   "metadata": {},
   "outputs": [],
   "source": [
    "def ac_refresh(board,dom):\n",
    "  display_contacts(dom)\n",
    "\n",
    "callbacks[\"Refresh\"] = ac_refresh"
   ]
  },
  {
   "cell_type": "markdown",
   "id": "useful-stone",
   "metadata": {},
   "source": [
    "In the function behind the *Submit* button, instead of calling directly the function which refreshes the contact list, let's use the `atlastk.broadcast_action(\"Refresh\")` function instead. This function will launch the `Refresh` action, to which the above function is assigned, on all instances. Hence, the list of contacts will now be updated on all instances."
   ]
  },
  {
   "cell_type": "code",
   "execution_count": null,
   "id": "guided-press",
   "metadata": {},
   "outputs": [],
   "source": [
    "def ac_submit(board,dom):\n",
    "  idsAndValues = dom.get_values(FIELDS)\n",
    "\n",
    "  if not idsAndValues['Name'].strip():\n",
    "    dom.alert(\"The name field can not be empty!\")\n",
    "  else:\n",
    "    board.state = State.DISPLAY\n",
    "    if board.contactId == None:\n",
    "      contacts.append(idsAndValues)\n",
    "    else:\n",
    "      contacts[board.contactId] = idsAndValues\n",
    "    display_contact(board.contactId,dom)\n",
    "    atlastk.broadcast_action(\"Refresh\")\n",
    "    update_outfit(board,dom)\n",
    "    \n",
    "callbacks[\"Submit\"] = ac_submit"
   ]
  },
  {
   "cell_type": "markdown",
   "id": "resistant-special",
   "metadata": {},
   "source": [
    "Same for the function behind the *Delete* button."
   ]
  },
  {
   "cell_type": "code",
   "execution_count": null,
   "id": "sixth-basin",
   "metadata": {},
   "outputs": [],
   "source": [
    "def ac_delete(board,dom):\n",
    "  contacts.pop(board.contactId)\n",
    "  board.contactId = None;\n",
    "  display_contact(None,dom)\n",
    "  atlastk.broadcast_action(\"Refresh\")\n",
    "  update_outfit(board,dom)\n",
    "\n",
    "callbacks[\"Delete\"] = ac_delete"
   ]
  },
  {
   "cell_type": "markdown",
   "id": "exact-boost",
   "metadata": {},
   "source": [
    "Let's admire the result. Open several instances, modify/create/delete a contact in one of them, and you will see that the contact list in all instances will be updated accordingly."
   ]
  },
  {
   "cell_type": "code",
   "execution_count": null,
   "id": "little-depression",
   "metadata": {},
   "outputs": [],
   "source": [
    "atlastk.launch(callbacks,Board)"
   ]
  },
  {
   "cell_type": "markdown",
   "id": "random-doctrine",
   "metadata": {},
   "source": [
    "## Conclusion\n",
    "\n",
    "All the elements of the interface of this app are now handled, but, as is, the program is far for complete. Many tests are missing, and especially the handling of the concurrent access to the `contacts` variable. This is not addressed here, as the purpose of this *notebook* is only to show how to use the *Atlas* toolkit. You will easily find documentation on how to handle this issue, and apply them finding on this application."
   ]
  }
 ],
 "metadata": {
  "kernelspec": {
   "display_name": "Python 3",
   "language": "python",
   "name": "python3"
  },
  "language_info": {
   "codemirror_mode": {
    "name": "ipython",
    "version": 3
   },
   "file_extension": ".py",
   "mimetype": "text/x-python",
   "name": "python",
   "nbconvert_exporter": "python",
   "pygments_lexer": "ipython3",
   "version": "3.6.9"
  }
 },
 "nbformat": 4,
 "nbformat_minor": 5
}
